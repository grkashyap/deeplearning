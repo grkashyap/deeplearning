{
 "cells": [
  {
   "cell_type": "code",
   "execution_count": 110,
   "metadata": {},
   "outputs": [],
   "source": [
    "import numpy as np\n",
    "import pandas as pd\n",
    "import matplotlib.pyplot as plt\n",
    "import seaborn as sns"
   ]
  },
  {
   "cell_type": "code",
   "execution_count": 111,
   "metadata": {},
   "outputs": [],
   "source": [
    "data = pd.read_csv('Accident_train.csv')"
   ]
  },
  {
   "cell_type": "code",
   "execution_count": 112,
   "metadata": {},
   "outputs": [
    {
     "data": {
      "text/plain": [
       "(10043, 17)"
      ]
     },
     "execution_count": 112,
     "metadata": {},
     "output_type": "execute_result"
    }
   ],
   "source": [
    "data.shape"
   ]
  },
  {
   "cell_type": "code",
   "execution_count": 113,
   "metadata": {},
   "outputs": [
    {
     "name": "stdout",
     "output_type": "stream",
     "text": [
      "<class 'pandas.core.frame.DataFrame'>\n",
      "RangeIndex: 10043 entries, 0 to 10042\n",
      "Data columns (total 17 columns):\n",
      "Collision_Ref_No              10043 non-null int64\n",
      "Policing_Area                 9709 non-null object\n",
      "Collision_Severity            10043 non-null int64\n",
      "Weekday_of_Collision          10043 non-null object\n",
      "Day_of_Collision              10043 non-null int64\n",
      "Month_of_Collision            10043 non-null int64\n",
      "Hour_of_Collision             9759 non-null float64\n",
      "Carriageway_Type              10043 non-null int64\n",
      "Speed_Limit                   10043 non-null int64\n",
      "Junction_Detail               9750 non-null float64\n",
      "Junction_Control              9744 non-null float64\n",
      "Ped_Crossing_HC               9722 non-null float64\n",
      "Ped_Crossing_PC               9743 non-null float64\n",
      "Light_Conditions              10043 non-null int64\n",
      "Weather_Conditions            10043 non-null int64\n",
      "Road_Surface_Conditions       9734 non-null float64\n",
      "Special_Conditions_at_Site    9755 non-null float64\n",
      "dtypes: float64(7), int64(8), object(2)\n",
      "memory usage: 1.3+ MB\n"
     ]
    }
   ],
   "source": [
    "data.info()"
   ]
  },
  {
   "cell_type": "code",
   "execution_count": 114,
   "metadata": {},
   "outputs": [
    {
     "data": {
      "text/plain": [
       "array(['MON', 'SAT', 'WED', 'SUN', 'TUE', 'FRI', 'THU'], dtype=object)"
      ]
     },
     "execution_count": 114,
     "metadata": {},
     "output_type": "execute_result"
    }
   ],
   "source": [
    "data['Weekday_of_Collision'].unique()"
   ]
  },
  {
   "cell_type": "code",
   "execution_count": 115,
   "metadata": {},
   "outputs": [],
   "source": [
    "weekday_dict = {'MON':'1','TUE':'2','WED':'3','THU':'4','FRI':'5','SAT':'6','SUN':'7'}"
   ]
  },
  {
   "cell_type": "code",
   "execution_count": 116,
   "metadata": {},
   "outputs": [],
   "source": [
    "data['Weekday_of_Collision'] = data['Weekday_of_Collision'].map(weekday_dict)"
   ]
  },
  {
   "cell_type": "code",
   "execution_count": 117,
   "metadata": {},
   "outputs": [
    {
     "data": {
      "text/plain": [
       "array(['1', '6', '3', '7', '2', '5', '4'], dtype=object)"
      ]
     },
     "execution_count": 117,
     "metadata": {},
     "output_type": "execute_result"
    }
   ],
   "source": [
    "data['Weekday_of_Collision'].unique()"
   ]
  },
  {
   "cell_type": "code",
   "execution_count": 118,
   "metadata": {},
   "outputs": [
    {
     "data": {
      "text/plain": [
       "<matplotlib.axes._subplots.AxesSubplot at 0x7fd8f576d5c0>"
      ]
     },
     "execution_count": 118,
     "metadata": {},
     "output_type": "execute_result"
    },
    {
     "data": {
      "image/png": "[encoded data removed]",
      "text/plain": [
       "<Figure size 432x288 with 1 Axes>"
      ]
     },
     "metadata": {},
     "output_type": "display_data"
    }
   ],
   "source": [
    "sns.heatmap(data.isnull(),yticklabels=False,cbar=False,cmap='viridis')"
   ]
  },
  {
   "cell_type": "code",
   "execution_count": 119,
   "metadata": {},
   "outputs": [],
   "source": [
    "def populate_policing_area(record):\n",
    "    policing_area = record[0]\n",
    "    colision_severity = record[1]\n",
    "    \n",
    "    if pd.isnull(policing_area):\n",
    "        if colision_severity == 1:\n",
    "            return 'NEWM'\n",
    "        else:\n",
    "            return 'BELC'\n",
    "    else:\n",
    "        return policing_area"
   ]
  },
  {
   "cell_type": "code",
   "execution_count": 120,
   "metadata": {},
   "outputs": [],
   "source": [
    "data['Policing_Area'] = data[['Policing_Area','Collision_Severity']].apply(populate_policing_area,axis=1)"
   ]
  },
  {
   "cell_type": "code",
   "execution_count": 121,
   "metadata": {},
   "outputs": [],
   "source": [
    "data['Hour_of_Collision'] = data['Hour_of_Collision'].fillna(value=17.0)\n",
    "data['Junction_Detail'] = data['Junction_Detail'].fillna(value=1.0)\n",
    "data['Junction_Control'] = data['Junction_Control'].fillna(value=7.0)\n",
    "data['Ped_Crossing_HC'] = data['Ped_Crossing_HC'].fillna(value=1.0)\n",
    "data['Ped_Crossing_PC'] = data['Ped_Crossing_PC'].fillna(value=1.0)\n",
    "data['Road_Surface_Conditions'] = data['Road_Surface_Conditions'].fillna(value=1.0)\n",
    "data['Special_Conditions_at_Site'] = data['Special_Conditions_at_Site'].fillna(value=1.0)"
   ]
  },
  {
   "cell_type": "code",
   "execution_count": 122,
   "metadata": {},
   "outputs": [
    {
     "name": "stdout",
     "output_type": "stream",
     "text": [
      "<class 'pandas.core.frame.DataFrame'>\n",
      "RangeIndex: 10043 entries, 0 to 10042\n",
      "Data columns (total 17 columns):\n",
      "Collision_Ref_No              10043 non-null int64\n",
      "Policing_Area                 10043 non-null object\n",
      "Collision_Severity            10043 non-null int64\n",
      "Weekday_of_Collision          10043 non-null object\n",
      "Day_of_Collision              10043 non-null int64\n",
      "Month_of_Collision            10043 non-null int64\n",
      "Hour_of_Collision             10043 non-null float64\n",
      "Carriageway_Type              10043 non-null int64\n",
      "Speed_Limit                   10043 non-null int64\n",
      "Junction_Detail               10043 non-null float64\n",
      "Junction_Control              10043 non-null float64\n",
      "Ped_Crossing_HC               10043 non-null float64\n",
      "Ped_Crossing_PC               10043 non-null float64\n",
      "Light_Conditions              10043 non-null int64\n",
      "Weather_Conditions            10043 non-null int64\n",
      "Road_Surface_Conditions       10043 non-null float64\n",
      "Special_Conditions_at_Site    10043 non-null float64\n",
      "dtypes: float64(7), int64(8), object(2)\n",
      "memory usage: 1.3+ MB\n"
     ]
    }
   ],
   "source": [
    "data.info()"
   ]
  },
  {
   "cell_type": "code",
   "execution_count": 123,
   "metadata": {},
   "outputs": [
    {
     "data": {
      "text/plain": [
       "array(['CREA', 'BELC', 'LISB', 'MIDU', 'FOYL', 'ANTN', 'ARBC', 'NABB',\n",
       "       'CCGL', 'ANTR', 'LISC', 'ARND', 'NDOW', 'FERO', 'DCST', 'DAST',\n",
       "       'BMEN', 'FERM', 'BELN', 'ARMA', 'COLE', 'MOYL', 'BELE', 'BELW',\n",
       "       'CRAI', 'COOK', 'MEAN', 'BELS', 'STRB', 'CFER', 'OMAG', 'NEMD',\n",
       "       'ARDS', 'LIMA', 'DOWN', 'BANB', 'NEWM', 'BMON', 'MFEL', 'LARN'], dtype=object)"
      ]
     },
     "execution_count": 123,
     "metadata": {},
     "output_type": "execute_result"
    }
   ],
   "source": [
    "data['Policing_Area'].unique()"
   ]
  },
  {
   "cell_type": "code",
   "execution_count": 124,
   "metadata": {},
   "outputs": [],
   "source": [
    "#policing_area_map = {'CREA':1, 'BELC':2, 'LISB':3, 'MIDU':4, 'FOYL':5, 'ANTN':6, 'ARBC':7, 'NABB':8,\n",
    "#       'CCGL':9, 'ANTR':10, 'LISC':11, 'ARND':12, 'NDOW':13, 'FERO':14, 'DCST':15, 'DAST':16,\n",
    "#       'BMEN':17, 'FERM':18, 'BELN':19, 'ARMA':20, 'COLE':21, 'MOYL':22, 'BELE':23, 'BELW':24,\n",
    "#       'CRAI':25, 'COOK':26, 'MEAN':27, 'BELS':28, 'STRB':29, 'CFER':30, 'OMAG':31, 'NEMD':32,\n",
    "#       'ARDS':33, 'LIMA':34, 'DOWN':35, 'BANB':36, 'NEWM':37, 'BMON':38, 'MFEL':39, 'LARN':40}"
   ]
  },
  {
   "cell_type": "code",
   "execution_count": 59,
   "metadata": {},
   "outputs": [],
   "source": [
    "#data['Policing_Area'] = data['Policing_Area'].map(policing_area_map)"
   ]
  },
  {
   "cell_type": "code",
   "execution_count": 127,
   "metadata": {},
   "outputs": [],
   "source": [
    "data['Weekday_of_Collision'] = data['Weekday_of_Collision'].astype(int)"
   ]
  },
  {
   "cell_type": "code",
   "execution_count": 128,
   "metadata": {},
   "outputs": [],
   "source": [
    "data_dummies = pd.get_dummies(data)"
   ]
  },
  {
   "cell_type": "code",
   "execution_count": 129,
   "metadata": {},
   "outputs": [
    {
     "data": {
      "text/plain": [
       "Index(['Collision_Ref_No', 'Collision_Severity', 'Weekday_of_Collision',\n",
       "       'Day_of_Collision', 'Month_of_Collision', 'Hour_of_Collision',\n",
       "       'Carriageway_Type', 'Speed_Limit', 'Junction_Detail',\n",
       "       'Junction_Control', 'Ped_Crossing_HC', 'Ped_Crossing_PC',\n",
       "       'Light_Conditions', 'Weather_Conditions', 'Road_Surface_Conditions',\n",
       "       'Special_Conditions_at_Site', 'Policing_Area_ANTN',\n",
       "       'Policing_Area_ANTR', 'Policing_Area_ARBC', 'Policing_Area_ARDS',\n",
       "       'Policing_Area_ARMA', 'Policing_Area_ARND', 'Policing_Area_BANB',\n",
       "       'Policing_Area_BELC', 'Policing_Area_BELE', 'Policing_Area_BELN',\n",
       "       'Policing_Area_BELS', 'Policing_Area_BELW', 'Policing_Area_BMEN',\n",
       "       'Policing_Area_BMON', 'Policing_Area_CCGL', 'Policing_Area_CFER',\n",
       "       'Policing_Area_COLE', 'Policing_Area_COOK', 'Policing_Area_CRAI',\n",
       "       'Policing_Area_CREA', 'Policing_Area_DAST', 'Policing_Area_DCST',\n",
       "       'Policing_Area_DOWN', 'Policing_Area_FERM', 'Policing_Area_FERO',\n",
       "       'Policing_Area_FOYL', 'Policing_Area_LARN', 'Policing_Area_LIMA',\n",
       "       'Policing_Area_LISB', 'Policing_Area_LISC', 'Policing_Area_MEAN',\n",
       "       'Policing_Area_MFEL', 'Policing_Area_MIDU', 'Policing_Area_MOYL',\n",
       "       'Policing_Area_NABB', 'Policing_Area_NDOW', 'Policing_Area_NEMD',\n",
       "       'Policing_Area_NEWM', 'Policing_Area_OMAG', 'Policing_Area_STRB'],\n",
       "      dtype='object')"
      ]
     },
     "execution_count": 129,
     "metadata": {},
     "output_type": "execute_result"
    }
   ],
   "source": [
    "data_dummies.columns"
   ]
  },
  {
   "cell_type": "code",
   "execution_count": 130,
   "metadata": {},
   "outputs": [
    {
     "data": {
      "text/plain": [
       "Index(['Collision_Ref_No', 'Policing_Area', 'Collision_Severity',\n",
       "       'Weekday_of_Collision', 'Day_of_Collision', 'Month_of_Collision',\n",
       "       'Hour_of_Collision', 'Carriageway_Type', 'Speed_Limit',\n",
       "       'Junction_Detail', 'Junction_Control', 'Ped_Crossing_HC',\n",
       "       'Ped_Crossing_PC', 'Light_Conditions', 'Weather_Conditions',\n",
       "       'Road_Surface_Conditions', 'Special_Conditions_at_Site'],\n",
       "      dtype='object')"
      ]
     },
     "execution_count": 130,
     "metadata": {},
     "output_type": "execute_result"
    }
   ],
   "source": [
    "data.columns"
   ]
  },
  {
   "cell_type": "code",
   "execution_count": 61,
   "metadata": {},
   "outputs": [],
   "source": [
    "X = data[['Policing_Area', 'Weekday_of_Collision', 'Day_of_Collision', 'Month_of_Collision',\n",
    "       'Hour_of_Collision', 'Carriageway_Type', 'Speed_Limit',\n",
    "       'Junction_Detail', 'Junction_Control', 'Ped_Crossing_HC',\n",
    "       'Ped_Crossing_PC', 'Light_Conditions', 'Weather_Conditions',\n",
    "       'Road_Surface_Conditions', 'Special_Conditions_at_Site']]\n",
    "\n",
    "y = data['Collision_Severity']"
   ]
  },
  {
   "cell_type": "code",
   "execution_count": 62,
   "metadata": {},
   "outputs": [],
   "source": [
    "from sklearn.model_selection import train_test_split"
   ]
  },
  {
   "cell_type": "code",
   "execution_count": 63,
   "metadata": {},
   "outputs": [],
   "source": [
    "X_train,X_test,y_train,y_test = train_test_split(X,y,test_size=0.3)"
   ]
  },
  {
   "cell_type": "code",
   "execution_count": 64,
   "metadata": {},
   "outputs": [],
   "source": [
    "from sklearn.tree import DecisionTreeClassifier\n",
    "dtc = DecisionTreeClassifier()"
   ]
  },
  {
   "cell_type": "code",
   "execution_count": 65,
   "metadata": {},
   "outputs": [
    {
     "data": {
      "text/plain": [
       "DecisionTreeClassifier(class_weight=None, criterion='gini', max_depth=None,\n",
       "            max_features=None, max_leaf_nodes=None,\n",
       "            min_impurity_decrease=0.0, min_impurity_split=None,\n",
       "            min_samples_leaf=1, min_samples_split=2,\n",
       "            min_weight_fraction_leaf=0.0, presort=False, random_state=None,\n",
       "            splitter='best')"
      ]
     },
     "execution_count": 65,
     "metadata": {},
     "output_type": "execute_result"
    }
   ],
   "source": [
    "dtc.fit(X_train,y_train)"
   ]
  },
  {
   "cell_type": "code",
   "execution_count": 66,
   "metadata": {},
   "outputs": [],
   "source": [
    "pred = dtc.predict(X_test)"
   ]
  },
  {
   "cell_type": "code",
   "execution_count": 67,
   "metadata": {},
   "outputs": [
    {
     "name": "stdout",
     "output_type": "stream",
     "text": [
      "Classification report : \n",
      "              precision    recall  f1-score   support\n",
      "\n",
      "          1       0.12      0.16      0.14        37\n",
      "          2       0.30      0.37      0.33       297\n",
      "          3       0.93      0.90      0.91      2679\n",
      "\n",
      "avg / total       0.86      0.84      0.85      3013\n",
      "\n",
      "confusion matrix : \n",
      " [[   6   15   16]\n",
      " [  20  111  166]\n",
      " [  25  242 2412]]\n"
     ]
    }
   ],
   "source": [
    "from sklearn.metrics import classification_report,confusion_matrix\n",
    "\n",
    "print('Classification report : \\n',classification_report(y_test,pred))\n",
    "print('confusion matrix : \\n',confusion_matrix(y_test,pred))"
   ]
  },
  {
   "cell_type": "code",
   "execution_count": 68,
   "metadata": {},
   "outputs": [],
   "source": [
    "from sklearn.ensemble import RandomForestClassifier"
   ]
  },
  {
   "cell_type": "code",
   "execution_count": 69,
   "metadata": {},
   "outputs": [],
   "source": [
    "rfc = RandomForestClassifier()"
   ]
  },
  {
   "cell_type": "code",
   "execution_count": 70,
   "metadata": {},
   "outputs": [
    {
     "data": {
      "text/plain": [
       "RandomForestClassifier(bootstrap=True, class_weight=None, criterion='gini',\n",
       "            max_depth=None, max_features='auto', max_leaf_nodes=None,\n",
       "            min_impurity_decrease=0.0, min_impurity_split=None,\n",
       "            min_samples_leaf=1, min_samples_split=2,\n",
       "            min_weight_fraction_leaf=0.0, n_estimators=10, n_jobs=1,\n",
       "            oob_score=False, random_state=None, verbose=0,\n",
       "            warm_start=False)"
      ]
     },
     "execution_count": 70,
     "metadata": {},
     "output_type": "execute_result"
    }
   ],
   "source": [
    "rfc.fit(X_train,y_train)"
   ]
  },
  {
   "cell_type": "code",
   "execution_count": 71,
   "metadata": {},
   "outputs": [],
   "source": [
    "pred_rfc = rfc.predict(X_test)"
   ]
  },
  {
   "cell_type": "code",
   "execution_count": 72,
   "metadata": {},
   "outputs": [
    {
     "name": "stdout",
     "output_type": "stream",
     "text": [
      "Classification report : \n",
      "              precision    recall  f1-score   support\n",
      "\n",
      "          1       0.33      0.03      0.05        37\n",
      "          2       0.45      0.19      0.27       297\n",
      "          3       0.91      0.98      0.94      2679\n",
      "\n",
      "avg / total       0.86      0.89      0.87      3013\n",
      "\n",
      "confusion matrix : \n",
      " [[   1   11   25]\n",
      " [   2   57  238]\n",
      " [   0   58 2621]]\n"
     ]
    }
   ],
   "source": [
    "print('Classification report : \\n',classification_report(y_test,pred_rfc))\n",
    "print('confusion matrix : \\n',confusion_matrix(y_test,pred_rfc))"
   ]
  },
  {
   "cell_type": "code",
   "execution_count": 73,
   "metadata": {},
   "outputs": [],
   "source": [
    "from sklearn.ensemble import GradientBoostingClassifier"
   ]
  },
  {
   "cell_type": "code",
   "execution_count": 74,
   "metadata": {},
   "outputs": [],
   "source": [
    "boostclassfr = GradientBoostingClassifier()"
   ]
  },
  {
   "cell_type": "code",
   "execution_count": 75,
   "metadata": {},
   "outputs": [
    {
     "data": {
      "text/plain": [
       "GradientBoostingClassifier(criterion='friedman_mse', init=None,\n",
       "              learning_rate=0.1, loss='deviance', max_depth=3,\n",
       "              max_features=None, max_leaf_nodes=None,\n",
       "              min_impurity_decrease=0.0, min_impurity_split=None,\n",
       "              min_samples_leaf=1, min_samples_split=2,\n",
       "              min_weight_fraction_leaf=0.0, n_estimators=100,\n",
       "              presort='auto', random_state=None, subsample=1.0, verbose=0,\n",
       "              warm_start=False)"
      ]
     },
     "execution_count": 75,
     "metadata": {},
     "output_type": "execute_result"
    }
   ],
   "source": [
    "boostclassfr.fit(X_train,y_train)"
   ]
  },
  {
   "cell_type": "code",
   "execution_count": 76,
   "metadata": {},
   "outputs": [],
   "source": [
    "pred_boost = boostclassfr.predict(X_test)"
   ]
  },
  {
   "cell_type": "code",
   "execution_count": 77,
   "metadata": {},
   "outputs": [
    {
     "name": "stdout",
     "output_type": "stream",
     "text": [
      "Classification report : \n",
      "              precision    recall  f1-score   support\n",
      "\n",
      "          1       0.67      0.05      0.10        37\n",
      "          2       0.68      0.17      0.27       297\n",
      "          3       0.91      0.99      0.95      2679\n",
      "\n",
      "avg / total       0.88      0.90      0.87      3013\n",
      "\n",
      "confusion matrix : \n",
      " [[   2    7   28]\n",
      " [   1   50  246]\n",
      " [   0   17 2662]]\n"
     ]
    }
   ],
   "source": [
    "print('Classification report : \\n',classification_report(y_test,pred_boost))\n",
    "print('confusion matrix : \\n',confusion_matrix(y_test,pred_boost))"
   ]
  },
  {
   "cell_type": "code",
   "execution_count": 78,
   "metadata": {},
   "outputs": [],
   "source": [
    "data_test = pd.read_csv('Accident_test.csv')"
   ]
  },
  {
   "cell_type": "code",
   "execution_count": 79,
   "metadata": {},
   "outputs": [],
   "source": [
    "data_test['Policing_Area'] = data_test[['Policing_Area','Collision_Severity']].apply(populate_policing_area,axis=1)"
   ]
  },
  {
   "cell_type": "code",
   "execution_count": 80,
   "metadata": {},
   "outputs": [],
   "source": [
    "data_test['Hour_of_Collision'] = data_test['Hour_of_Collision'].fillna(value=17.0)\n",
    "data_test['Junction_Detail'] = data_test['Junction_Detail'].fillna(value=1.0)\n",
    "data_test['Junction_Control'] = data_test['Junction_Control'].fillna(value=7.0)\n",
    "data_test['Ped_Crossing_HC'] = data_test['Ped_Crossing_HC'].fillna(value=1.0)\n",
    "data_test['Ped_Crossing_PC'] = data_test['Ped_Crossing_PC'].fillna(value=1.0)\n",
    "data_test['Road_Surface_Conditions'] = data_test['Road_Surface_Conditions'].fillna(value=1.0)\n",
    "data_test['Special_Conditions_at_Site'] = data_test['Special_Conditions_at_Site'].fillna(value=1.0)"
   ]
  },
  {
   "cell_type": "code",
   "execution_count": 81,
   "metadata": {},
   "outputs": [],
   "source": [
    "data_test['Policing_Area'] = data_test['Policing_Area'].map(policing_area_map)"
   ]
  },
  {
   "cell_type": "code",
   "execution_count": 82,
   "metadata": {},
   "outputs": [],
   "source": [
    "data_test['Weekday_of_Collision'] = data_test['Weekday_of_Collision'].map(weekday_dict)"
   ]
  },
  {
   "cell_type": "code",
   "execution_count": 83,
   "metadata": {},
   "outputs": [],
   "source": [
    "test_X = data_test[['Policing_Area', 'Weekday_of_Collision', 'Day_of_Collision', 'Month_of_Collision',\n",
    "       'Hour_of_Collision', 'Carriageway_Type', 'Speed_Limit',\n",
    "       'Junction_Detail', 'Junction_Control', 'Ped_Crossing_HC',\n",
    "       'Ped_Crossing_PC', 'Light_Conditions', 'Weather_Conditions',\n",
    "       'Road_Surface_Conditions', 'Special_Conditions_at_Site']]\n",
    "\n",
    "test_y = data_test['Collision_Severity']"
   ]
  },
  {
   "cell_type": "code",
   "execution_count": 86,
   "metadata": {},
   "outputs": [],
   "source": [
    "pred_test = dtc.predict(test_X)\n",
    "\n",
    "#print('Classification report : \\n',classification_report(test_y,pred_test))\n",
    "#print('confusion matrix : \\n',confusion_matrix(test_y,pred_test))"
   ]
  },
  {
   "cell_type": "code",
   "execution_count": 88,
   "metadata": {},
   "outputs": [
    {
     "data": {
      "text/plain": [
       "(354,)"
      ]
     },
     "execution_count": 88,
     "metadata": {},
     "output_type": "execute_result"
    }
   ],
   "source": [
    "pred_test.shape"
   ]
  },
  {
   "cell_type": "code",
   "execution_count": 91,
   "metadata": {},
   "outputs": [],
   "source": [
    "#list(range(0,pred_test.shape[0]))"
   ]
  },
  {
   "cell_type": "code",
   "execution_count": 98,
   "metadata": {},
   "outputs": [],
   "source": [
    "#my_submission = pd.DataFrame({'Collision_Severity':pred_test,'S.No.':list(range(0,pred_test.shape[0]))})\n",
    "my_submission = pd.DataFrame({'Collision_Severity':pred_test})"
   ]
  },
  {
   "cell_type": "code",
   "execution_count": 101,
   "metadata": {},
   "outputs": [],
   "source": [
    "my_submission.index += 1"
   ]
  },
  {
   "cell_type": "code",
   "execution_count": 102,
   "metadata": {},
   "outputs": [],
   "source": [
    "my_submission.to_csv('submission.csv', index=True,index_label='S.No.')"
   ]
  },
  {
   "cell_type": "code",
   "execution_count": 103,
   "metadata": {},
   "outputs": [],
   "source": [
    "pred_rfc_test = rfc.predict(test_X)"
   ]
  },
  {
   "cell_type": "code",
   "execution_count": 104,
   "metadata": {},
   "outputs": [],
   "source": [
    "my_submission_rfc = pd.DataFrame({'Collision_Severity':pred_rfc_test})"
   ]
  },
  {
   "cell_type": "code",
   "execution_count": 105,
   "metadata": {},
   "outputs": [],
   "source": [
    "my_submission_rfc.index += 1\n",
    "my_submission_rfc.to_csv('submission_rfc.csv', index=True,index_label='S.No.')"
   ]
  },
  {
   "cell_type": "code",
   "execution_count": 106,
   "metadata": {},
   "outputs": [],
   "source": [
    "pred_boost_test = boostclassfr.predict(test_X)"
   ]
  },
  {
   "cell_type": "code",
   "execution_count": 107,
   "metadata": {},
   "outputs": [],
   "source": [
    "my_submission_boost = pd.DataFrame({'Collision_Severity':pred_boost_test})"
   ]
  },
  {
   "cell_type": "code",
   "execution_count": 108,
   "metadata": {},
   "outputs": [],
   "source": [
    "my_submission_boost.index += 1\n",
    "my_submission_boost.to_csv('submission_boost.csv', index=True,index_label='S.No.')"
   ]
  },
  {
   "cell_type": "code",
   "execution_count": 180,
   "metadata": {},
   "outputs": [
    {
     "data": {
      "text/plain": [
       "Index(['Collision_Ref_No', 'Collision_Severity', 'Weekday_of_Collision',\n",
       "       'Day_of_Collision', 'Month_of_Collision', 'Hour_of_Collision',\n",
       "       'Carriageway_Type', 'Speed_Limit', 'Junction_Detail',\n",
       "       'Junction_Control', 'Ped_Crossing_HC', 'Ped_Crossing_PC',\n",
       "       'Light_Conditions', 'Weather_Conditions', 'Road_Surface_Conditions',\n",
       "       'Special_Conditions_at_Site', 'Policing_Area_ANTN',\n",
       "       'Policing_Area_ANTR', 'Policing_Area_ARBC', 'Policing_Area_ARDS',\n",
       "       'Policing_Area_ARMA', 'Policing_Area_ARND', 'Policing_Area_BANB',\n",
       "       'Policing_Area_BELC', 'Policing_Area_BELE', 'Policing_Area_BELN',\n",
       "       'Policing_Area_BELS', 'Policing_Area_BELW', 'Policing_Area_BMEN',\n",
       "       'Policing_Area_BMON', 'Policing_Area_CCGL', 'Policing_Area_CFER',\n",
       "       'Policing_Area_COLE', 'Policing_Area_COOK', 'Policing_Area_CRAI',\n",
       "       'Policing_Area_CREA', 'Policing_Area_DAST', 'Policing_Area_DCST',\n",
       "       'Policing_Area_DOWN', 'Policing_Area_FERM', 'Policing_Area_FERO',\n",
       "       'Policing_Area_FOYL', 'Policing_Area_LARN', 'Policing_Area_LIMA',\n",
       "       'Policing_Area_LISB', 'Policing_Area_LISC', 'Policing_Area_MEAN',\n",
       "       'Policing_Area_MFEL', 'Policing_Area_MIDU', 'Policing_Area_MOYL',\n",
       "       'Policing_Area_NABB', 'Policing_Area_NDOW', 'Policing_Area_NEMD',\n",
       "       'Policing_Area_NEWM', 'Policing_Area_OMAG', 'Policing_Area_STRB'],\n",
       "      dtype='object')"
      ]
     },
     "execution_count": 180,
     "metadata": {},
     "output_type": "execute_result"
    }
   ],
   "source": [
    "data_dummies.columns"
   ]
  },
  {
   "cell_type": "code",
   "execution_count": 181,
   "metadata": {},
   "outputs": [],
   "source": [
    "X1 = data_dummies[['Weekday_of_Collision',\n",
    "       'Day_of_Collision', 'Month_of_Collision', 'Hour_of_Collision',\n",
    "       'Carriageway_Type', 'Speed_Limit', 'Junction_Detail',\n",
    "       'Junction_Control', 'Ped_Crossing_HC', 'Ped_Crossing_PC',\n",
    "       'Light_Conditions', 'Weather_Conditions', 'Road_Surface_Conditions',\n",
    "       'Special_Conditions_at_Site', 'Policing_Area_ANTN',\n",
    "       'Policing_Area_ANTR', 'Policing_Area_ARBC', 'Policing_Area_ARDS',\n",
    "       'Policing_Area_ARMA', 'Policing_Area_ARND', 'Policing_Area_BANB',\n",
    "       'Policing_Area_BELC', 'Policing_Area_BELE', 'Policing_Area_BELN',\n",
    "       'Policing_Area_BELS', 'Policing_Area_BELW', 'Policing_Area_BMEN',\n",
    "       'Policing_Area_BMON', 'Policing_Area_CCGL', 'Policing_Area_CFER',\n",
    "       'Policing_Area_COLE', 'Policing_Area_COOK', 'Policing_Area_CRAI',\n",
    "       'Policing_Area_CREA', 'Policing_Area_DAST', 'Policing_Area_DCST',\n",
    "       'Policing_Area_DOWN', 'Policing_Area_FERM', 'Policing_Area_FERO',\n",
    "       'Policing_Area_FOYL', 'Policing_Area_LARN', 'Policing_Area_LIMA',\n",
    "       'Policing_Area_LISB', 'Policing_Area_LISC', 'Policing_Area_MEAN',\n",
    "       'Policing_Area_MFEL', 'Policing_Area_MIDU', 'Policing_Area_MOYL',\n",
    "       'Policing_Area_NABB', 'Policing_Area_NDOW', 'Policing_Area_NEMD',\n",
    "       'Policing_Area_NEWM', 'Policing_Area_OMAG', 'Policing_Area_STRB']]\n",
    "\n",
    "y1 = data['Collision_Severity']"
   ]
  },
  {
   "cell_type": "code",
   "execution_count": 182,
   "metadata": {},
   "outputs": [],
   "source": [
    "X_train1,X_test1,y_train1,y_test1 = train_test_split(X1,y1,test_size=0.3)"
   ]
  },
  {
   "cell_type": "code",
   "execution_count": 153,
   "metadata": {},
   "outputs": [],
   "source": [
    "#boostclassfr = GradientBoostingClassifier(loss='exponential')"
   ]
  },
  {
   "cell_type": "code",
   "execution_count": 154,
   "metadata": {},
   "outputs": [],
   "source": [
    "#boostclassfr.fit(X_train1,y_train1)"
   ]
  },
  {
   "cell_type": "code",
   "execution_count": 135,
   "metadata": {},
   "outputs": [],
   "source": [
    "pred_boost1 = boostclassfr.predict(X_test1)"
   ]
  },
  {
   "cell_type": "code",
   "execution_count": 136,
   "metadata": {},
   "outputs": [
    {
     "name": "stdout",
     "output_type": "stream",
     "text": [
      "Classification report : \n",
      "              precision    recall  f1-score   support\n",
      "\n",
      "          1       0.00      0.00      0.00        27\n",
      "          2       0.62      0.17      0.27       284\n",
      "          3       0.91      0.99      0.95      2702\n",
      "\n",
      "avg / total       0.88      0.91      0.88      3013\n",
      "\n",
      "confusion matrix : \n",
      " [[   0    7   20]\n",
      " [   3   49  232]\n",
      " [   1   23 2678]]\n"
     ]
    }
   ],
   "source": [
    "print('Classification report : \\n',classification_report(y_test1,pred_boost1))\n",
    "print('confusion matrix : \\n',confusion_matrix(y_test1,pred_boost1))"
   ]
  },
  {
   "cell_type": "code",
   "execution_count": 137,
   "metadata": {},
   "outputs": [],
   "source": [
    "data_test1 = pd.read_csv('Accident_test.csv')"
   ]
  },
  {
   "cell_type": "code",
   "execution_count": 140,
   "metadata": {},
   "outputs": [],
   "source": [
    "data_test1['Policing_Area'] = data_test1[['Policing_Area','Collision_Severity']].apply(populate_policing_area,axis=1)"
   ]
  },
  {
   "cell_type": "code",
   "execution_count": 141,
   "metadata": {},
   "outputs": [],
   "source": [
    "data_test1['Hour_of_Collision'] = data_test1['Hour_of_Collision'].fillna(value=17.0)\n",
    "data_test1['Junction_Detail'] = data_test1['Junction_Detail'].fillna(value=1.0)\n",
    "data_test1['Junction_Control'] = data_test1['Junction_Control'].fillna(value=7.0)\n",
    "data_test1['Ped_Crossing_HC'] = data_test1['Ped_Crossing_HC'].fillna(value=1.0)\n",
    "data_test1['Ped_Crossing_PC'] = data_test1['Ped_Crossing_PC'].fillna(value=1.0)\n",
    "data_test1['Road_Surface_Conditions'] = data_test1['Road_Surface_Conditions'].fillna(value=1.0)\n",
    "data_test1['Special_Conditions_at_Site'] = data_test1['Special_Conditions_at_Site'].fillna(value=1.0)"
   ]
  },
  {
   "cell_type": "code",
   "execution_count": 142,
   "metadata": {},
   "outputs": [],
   "source": [
    "data_test1['Weekday_of_Collision'] = data_test1['Weekday_of_Collision'].map(weekday_dict)"
   ]
  },
  {
   "cell_type": "code",
   "execution_count": 143,
   "metadata": {},
   "outputs": [],
   "source": [
    "data_test1['Weekday_of_Collision'] = data_test1['Weekday_of_Collision'].astype(int)"
   ]
  },
  {
   "cell_type": "code",
   "execution_count": 144,
   "metadata": {},
   "outputs": [],
   "source": [
    "data_test_dummies = pd.get_dummies(data_test1)"
   ]
  },
  {
   "cell_type": "code",
   "execution_count": 145,
   "metadata": {},
   "outputs": [
    {
     "data": {
      "text/plain": [
       "Index(['Collision_Ref_No', 'Weekday_of_Collision', 'Day_of_Collision',\n",
       "       'Month_of_Collision', 'Hour_of_Collision', 'Carriageway_Type',\n",
       "       'Speed_Limit', 'Junction_Detail', 'Junction_Control', 'Ped_Crossing_HC',\n",
       "       'Ped_Crossing_PC', 'Light_Conditions', 'Weather_Conditions',\n",
       "       'Road_Surface_Conditions', 'Special_Conditions_at_Site',\n",
       "       'Policing_Area_ANTN', 'Policing_Area_ANTR', 'Policing_Area_ARBC',\n",
       "       'Policing_Area_ARDS', 'Policing_Area_ARMA', 'Policing_Area_ARND',\n",
       "       'Policing_Area_BANB', 'Policing_Area_BELC', 'Policing_Area_BELE',\n",
       "       'Policing_Area_BELN', 'Policing_Area_BELS', 'Policing_Area_BELW',\n",
       "       'Policing_Area_BMEN', 'Policing_Area_BMON', 'Policing_Area_CCGL',\n",
       "       'Policing_Area_CFER', 'Policing_Area_COLE', 'Policing_Area_COOK',\n",
       "       'Policing_Area_CRAI', 'Policing_Area_CREA', 'Policing_Area_DAST',\n",
       "       'Policing_Area_DCST', 'Policing_Area_DOWN', 'Policing_Area_FERM',\n",
       "       'Policing_Area_FERO', 'Policing_Area_FOYL', 'Policing_Area_LARN',\n",
       "       'Policing_Area_LIMA', 'Policing_Area_LISB', 'Policing_Area_LISC',\n",
       "       'Policing_Area_MEAN', 'Policing_Area_MFEL', 'Policing_Area_MIDU',\n",
       "       'Policing_Area_MOYL', 'Policing_Area_NABB', 'Policing_Area_NDOW',\n",
       "       'Policing_Area_NEMD', 'Policing_Area_NEWM', 'Policing_Area_OMAG',\n",
       "       'Policing_Area_STRB', 'Collision_Severity_Predict'],\n",
       "      dtype='object')"
      ]
     },
     "execution_count": 145,
     "metadata": {},
     "output_type": "execute_result"
    }
   ],
   "source": [
    "data_test_dummies.columns"
   ]
  },
  {
   "cell_type": "code",
   "execution_count": 147,
   "metadata": {},
   "outputs": [],
   "source": [
    "test_X = data_test_dummies[['Weekday_of_Collision', 'Day_of_Collision',\n",
    "       'Month_of_Collision', 'Hour_of_Collision', 'Carriageway_Type',\n",
    "       'Speed_Limit', 'Junction_Detail', 'Junction_Control', 'Ped_Crossing_HC',\n",
    "       'Ped_Crossing_PC', 'Light_Conditions', 'Weather_Conditions',\n",
    "       'Road_Surface_Conditions', 'Special_Conditions_at_Site',\n",
    "       'Policing_Area_ANTN', 'Policing_Area_ANTR', 'Policing_Area_ARBC',\n",
    "       'Policing_Area_ARDS', 'Policing_Area_ARMA', 'Policing_Area_ARND',\n",
    "       'Policing_Area_BANB', 'Policing_Area_BELC', 'Policing_Area_BELE',\n",
    "       'Policing_Area_BELN', 'Policing_Area_BELS', 'Policing_Area_BELW',\n",
    "       'Policing_Area_BMEN', 'Policing_Area_BMON', 'Policing_Area_CCGL',\n",
    "       'Policing_Area_CFER', 'Policing_Area_COLE', 'Policing_Area_COOK',\n",
    "       'Policing_Area_CRAI', 'Policing_Area_CREA', 'Policing_Area_DAST',\n",
    "       'Policing_Area_DCST', 'Policing_Area_DOWN', 'Policing_Area_FERM',\n",
    "       'Policing_Area_FERO', 'Policing_Area_FOYL', 'Policing_Area_LARN',\n",
    "       'Policing_Area_LIMA', 'Policing_Area_LISB', 'Policing_Area_LISC',\n",
    "       'Policing_Area_MEAN', 'Policing_Area_MFEL', 'Policing_Area_MIDU',\n",
    "       'Policing_Area_MOYL', 'Policing_Area_NABB', 'Policing_Area_NDOW',\n",
    "       'Policing_Area_NEMD', 'Policing_Area_NEWM', 'Policing_Area_OMAG',\n",
    "       'Policing_Area_STRB']]\n",
    "\n",
    "#test_y = data_test['Collision_Severity']"
   ]
  },
  {
   "cell_type": "code",
   "execution_count": 148,
   "metadata": {},
   "outputs": [],
   "source": [
    "pred_test_boost1 = boostclassfr.predict(test_X)"
   ]
  },
  {
   "cell_type": "code",
   "execution_count": 202,
   "metadata": {},
   "outputs": [],
   "source": [
    "my_submission_boost = pd.DataFrame({'Collision_Severity':pred_test_boost1})\n",
    "my_submission_boost.index += 1\n",
    "my_submission_boost.to_csv('submission_boost1.csv', index=True,index_label='S.No.')"
   ]
  },
  {
   "cell_type": "code",
   "execution_count": null,
   "metadata": {},
   "outputs": [],
   "source": []
  },
  {
   "cell_type": "code",
   "execution_count": 230,
   "metadata": {},
   "outputs": [],
   "source": [
    "boostclassfr1 = GradientBoostingClassifier(max_depth=2,)"
   ]
  },
  {
   "cell_type": "code",
   "execution_count": 231,
   "metadata": {},
   "outputs": [
    {
     "data": {
      "text/plain": [
       "GradientBoostingClassifier(criterion='friedman_mse', init=None,\n",
       "              learning_rate=0.1, loss='deviance', max_depth=3,\n",
       "              max_features=None, max_leaf_nodes=None,\n",
       "              min_impurity_decrease=0.0, min_impurity_split=None,\n",
       "              min_samples_leaf=1, min_samples_split=2,\n",
       "              min_weight_fraction_leaf=0.0, n_estimators=100,\n",
       "              presort='auto', random_state=None, subsample=1.0, verbose=0,\n",
       "              warm_start=False)"
      ]
     },
     "execution_count": 231,
     "metadata": {},
     "output_type": "execute_result"
    }
   ],
   "source": [
    "boostclassfr1.fit(X_test1,y_test1)"
   ]
  },
  {
   "cell_type": "code",
   "execution_count": 232,
   "metadata": {},
   "outputs": [],
   "source": [
    "pred_lr = boostclassfr1.predict(X_test1)"
   ]
  },
  {
   "cell_type": "code",
   "execution_count": 233,
   "metadata": {},
   "outputs": [
    {
     "name": "stdout",
     "output_type": "stream",
     "text": [
      "Classification report : \n",
      "              precision    recall  f1-score   support\n",
      "\n",
      "          1       1.00      0.37      0.54        30\n",
      "          2       0.95      0.37      0.53       290\n",
      "          3       0.93      1.00      0.96      2693\n",
      "\n",
      "avg / total       0.93      0.93      0.92      3013\n",
      "\n",
      "confusion matrix : \n",
      " [[  11    0   19]\n",
      " [   0  108  182]\n",
      " [   0    6 2687]]\n"
     ]
    }
   ],
   "source": [
    "print('Classification report : \\n',classification_report(y_test1,pred_lr))\n",
    "print('confusion matrix : \\n',confusion_matrix(y_test1,pred_lr))"
   ]
  },
  {
   "cell_type": "code",
   "execution_count": 234,
   "metadata": {},
   "outputs": [],
   "source": [
    "pred_test_boost2 = boostclassfr1.predict(test_X)"
   ]
  },
  {
   "cell_type": "code",
   "execution_count": 235,
   "metadata": {},
   "outputs": [],
   "source": [
    "my_submission_boost2 = pd.DataFrame({'Collision_Severity':pred_test_boost2})\n",
    "my_submission_boost2.index += 1\n",
    "my_submission_boost2.to_csv('submission_boost3.csv', index=True,index_label='S.No.')"
   ]
  },
  {
   "cell_type": "code",
   "execution_count": null,
   "metadata": {},
   "outputs": [],
   "source": []
  },
  {
   "cell_type": "code",
   "execution_count": null,
   "metadata": {},
   "outputs": [],
   "source": []
  },
  {
   "cell_type": "code",
   "execution_count": null,
   "metadata": {},
   "outputs": [],
   "source": []
  },
  {
   "cell_type": "code",
   "execution_count": 155,
   "metadata": {},
   "outputs": [],
   "source": [
    "import tensorflow as tf"
   ]
  },
  {
   "cell_type": "code",
   "execution_count": 156,
   "metadata": {},
   "outputs": [],
   "source": [
    "learning_rate = 0.001\n",
    "training_epochs = 15\n",
    "batch_size = 100"
   ]
  },
  {
   "cell_type": "code",
   "execution_count": 157,
   "metadata": {},
   "outputs": [
    {
     "data": {
      "text/plain": [
       "((10043, 54), (10043,))"
      ]
     },
     "execution_count": 157,
     "metadata": {},
     "output_type": "execute_result"
    }
   ],
   "source": [
    "X1.shape, y1.shape"
   ]
  },
  {
   "cell_type": "code",
   "execution_count": 160,
   "metadata": {},
   "outputs": [],
   "source": [
    "n_hidden_1 = 20 # 1st layer number of features\n",
    "n_hidden_2 = 20 # 2nd layer number of features\n",
    "n_input = 54 # MNIST data input (img shape: 28*28)\n",
    "n_classes = 3 # MNIST total classes (0-9 digits)\n",
    "n_samples = 10043"
   ]
  },
  {
   "cell_type": "code",
   "execution_count": 159,
   "metadata": {},
   "outputs": [],
   "source": [
    "x = tf.placeholder(\"float\", [None, n_input])\n",
    "y = tf.placeholder(\"float\", [None, n_classes])"
   ]
  },
  {
   "cell_type": "code",
   "execution_count": 161,
   "metadata": {},
   "outputs": [],
   "source": [
    "def multilayer_perceptron(x, weights, biases):\n",
    "    '''\n",
    "    x : Place Holder for Data Input\n",
    "    weights: Dictionary of weights\n",
    "    biases: Dicitionary of biases\n",
    "    '''\n",
    "    \n",
    "    # First Hidden layer with RELU activation\n",
    "    layer_1 = tf.add(tf.matmul(x, weights['h1']), biases['b1'])\n",
    "    layer_1 = tf.nn.relu(layer_1)\n",
    "    \n",
    "    # Second Hidden layer with RELU activation\n",
    "    layer_2 = tf.add(tf.matmul(layer_1, weights['h2']), biases['b2'])\n",
    "    layer_2 = tf.nn.relu(layer_2)\n",
    "    \n",
    "    # Last Output layer with linear activation\n",
    "    out_layer = tf.matmul(layer_2, weights['out']) + biases['out']\n",
    "    return out_layer"
   ]
  },
  {
   "cell_type": "code",
   "execution_count": 162,
   "metadata": {},
   "outputs": [],
   "source": [
    "weights = {\n",
    "    'h1': tf.Variable(tf.random_normal([n_input, n_hidden_1])),\n",
    "    'h2': tf.Variable(tf.random_normal([n_hidden_1, n_hidden_2])),\n",
    "    'out': tf.Variable(tf.random_normal([n_hidden_2, n_classes]))\n",
    "}\n",
    "\n",
    "biases = {\n",
    "    'b1': tf.Variable(tf.random_normal([n_hidden_1])),\n",
    "    'b2': tf.Variable(tf.random_normal([n_hidden_2])),\n",
    "    'out': tf.Variable(tf.random_normal([n_classes]))\n",
    "}"
   ]
  },
  {
   "cell_type": "code",
   "execution_count": 163,
   "metadata": {},
   "outputs": [],
   "source": [
    "pred_mlp = multilayer_perceptron(x, weights, biases)"
   ]
  },
  {
   "cell_type": "code",
   "execution_count": 169,
   "metadata": {},
   "outputs": [],
   "source": [
    "cost = tf.reduce_mean(tf.nn.softmax_cross_entropy_with_logits_v2(labels=y, logits=pred_mlp))\n",
    "optimizer = tf.train.AdamOptimizer(learning_rate=learning_rate).minimize(cost)"
   ]
  },
  {
   "cell_type": "code",
   "execution_count": 170,
   "metadata": {},
   "outputs": [
    {
     "name": "stdout",
     "output_type": "stream",
     "text": [
      "WARNING:tensorflow:From /home/rahul/anaconda3/lib/python3.6/site-packages/tensorflow/python/util/tf_should_use.py:118: initialize_all_variables (from tensorflow.python.ops.variables) is deprecated and will be removed after 2017-03-02.\n",
      "Instructions for updating:\n",
      "Use `tf.global_variables_initializer` instead.\n"
     ]
    }
   ],
   "source": [
    "init = tf.initialize_all_variables()"
   ]
  },
  {
   "cell_type": "code",
   "execution_count": 176,
   "metadata": {},
   "outputs": [
    {
     "data": {
      "text/html": [
       "<div>\n",
       "<style scoped>\n",
       "    .dataframe tbody tr th:only-of-type {\n",
       "        vertical-align: middle;\n",
       "    }\n",
       "\n",
       "    .dataframe tbody tr th {\n",
       "        vertical-align: top;\n",
       "    }\n",
       "\n",
       "    .dataframe thead th {\n",
       "        text-align: right;\n",
       "    }\n",
       "</style>\n",
       "<table border=\"1\" class=\"dataframe\">\n",
       "  <thead>\n",
       "    <tr style=\"text-align: right;\">\n",
       "      <th></th>\n",
       "      <th>Weekday_of_Collision</th>\n",
       "      <th>Day_of_Collision</th>\n",
       "      <th>Month_of_Collision</th>\n",
       "      <th>Hour_of_Collision</th>\n",
       "      <th>Carriageway_Type</th>\n",
       "      <th>Speed_Limit</th>\n",
       "      <th>Junction_Detail</th>\n",
       "      <th>Junction_Control</th>\n",
       "      <th>Ped_Crossing_HC</th>\n",
       "      <th>Ped_Crossing_PC</th>\n",
       "      <th>...</th>\n",
       "      <th>Policing_Area_MEAN</th>\n",
       "      <th>Policing_Area_MFEL</th>\n",
       "      <th>Policing_Area_MIDU</th>\n",
       "      <th>Policing_Area_MOYL</th>\n",
       "      <th>Policing_Area_NABB</th>\n",
       "      <th>Policing_Area_NDOW</th>\n",
       "      <th>Policing_Area_NEMD</th>\n",
       "      <th>Policing_Area_NEWM</th>\n",
       "      <th>Policing_Area_OMAG</th>\n",
       "      <th>Policing_Area_STRB</th>\n",
       "    </tr>\n",
       "  </thead>\n",
       "  <tbody>\n",
       "    <tr>\n",
       "      <th>0</th>\n",
       "      <td>1</td>\n",
       "      <td>4</td>\n",
       "      <td>8</td>\n",
       "      <td>14.0</td>\n",
       "      <td>13</td>\n",
       "      <td>60</td>\n",
       "      <td>1.0</td>\n",
       "      <td>1.0</td>\n",
       "      <td>1.0</td>\n",
       "      <td>1.0</td>\n",
       "      <td>...</td>\n",
       "      <td>0</td>\n",
       "      <td>0</td>\n",
       "      <td>0</td>\n",
       "      <td>0</td>\n",
       "      <td>0</td>\n",
       "      <td>0</td>\n",
       "      <td>0</td>\n",
       "      <td>0</td>\n",
       "      <td>0</td>\n",
       "      <td>0</td>\n",
       "    </tr>\n",
       "    <tr>\n",
       "      <th>1</th>\n",
       "      <td>6</td>\n",
       "      <td>8</td>\n",
       "      <td>8</td>\n",
       "      <td>17.0</td>\n",
       "      <td>11</td>\n",
       "      <td>50</td>\n",
       "      <td>12.0</td>\n",
       "      <td>7.0</td>\n",
       "      <td>1.0</td>\n",
       "      <td>1.0</td>\n",
       "      <td>...</td>\n",
       "      <td>0</td>\n",
       "      <td>0</td>\n",
       "      <td>0</td>\n",
       "      <td>0</td>\n",
       "      <td>0</td>\n",
       "      <td>0</td>\n",
       "      <td>0</td>\n",
       "      <td>0</td>\n",
       "      <td>0</td>\n",
       "      <td>0</td>\n",
       "    </tr>\n",
       "    <tr>\n",
       "      <th>2</th>\n",
       "      <td>3</td>\n",
       "      <td>5</td>\n",
       "      <td>11</td>\n",
       "      <td>17.0</td>\n",
       "      <td>1</td>\n",
       "      <td>60</td>\n",
       "      <td>12.0</td>\n",
       "      <td>7.0</td>\n",
       "      <td>1.0</td>\n",
       "      <td>1.0</td>\n",
       "      <td>...</td>\n",
       "      <td>0</td>\n",
       "      <td>0</td>\n",
       "      <td>0</td>\n",
       "      <td>0</td>\n",
       "      <td>0</td>\n",
       "      <td>0</td>\n",
       "      <td>0</td>\n",
       "      <td>0</td>\n",
       "      <td>0</td>\n",
       "      <td>0</td>\n",
       "    </tr>\n",
       "    <tr>\n",
       "      <th>3</th>\n",
       "      <td>7</td>\n",
       "      <td>18</td>\n",
       "      <td>10</td>\n",
       "      <td>16.0</td>\n",
       "      <td>12</td>\n",
       "      <td>70</td>\n",
       "      <td>6.0</td>\n",
       "      <td>7.0</td>\n",
       "      <td>1.0</td>\n",
       "      <td>1.0</td>\n",
       "      <td>...</td>\n",
       "      <td>0</td>\n",
       "      <td>0</td>\n",
       "      <td>0</td>\n",
       "      <td>0</td>\n",
       "      <td>0</td>\n",
       "      <td>0</td>\n",
       "      <td>0</td>\n",
       "      <td>0</td>\n",
       "      <td>0</td>\n",
       "      <td>0</td>\n",
       "    </tr>\n",
       "    <tr>\n",
       "      <th>4</th>\n",
       "      <td>1</td>\n",
       "      <td>23</td>\n",
       "      <td>11</td>\n",
       "      <td>9.0</td>\n",
       "      <td>13</td>\n",
       "      <td>60</td>\n",
       "      <td>6.0</td>\n",
       "      <td>7.0</td>\n",
       "      <td>1.0</td>\n",
       "      <td>1.0</td>\n",
       "      <td>...</td>\n",
       "      <td>0</td>\n",
       "      <td>0</td>\n",
       "      <td>1</td>\n",
       "      <td>0</td>\n",
       "      <td>0</td>\n",
       "      <td>0</td>\n",
       "      <td>0</td>\n",
       "      <td>0</td>\n",
       "      <td>0</td>\n",
       "      <td>0</td>\n",
       "    </tr>\n",
       "    <tr>\n",
       "      <th>5</th>\n",
       "      <td>1</td>\n",
       "      <td>3</td>\n",
       "      <td>2</td>\n",
       "      <td>12.0</td>\n",
       "      <td>13</td>\n",
       "      <td>60</td>\n",
       "      <td>1.0</td>\n",
       "      <td>1.0</td>\n",
       "      <td>1.0</td>\n",
       "      <td>1.0</td>\n",
       "      <td>...</td>\n",
       "      <td>0</td>\n",
       "      <td>0</td>\n",
       "      <td>0</td>\n",
       "      <td>0</td>\n",
       "      <td>0</td>\n",
       "      <td>0</td>\n",
       "      <td>0</td>\n",
       "      <td>0</td>\n",
       "      <td>0</td>\n",
       "      <td>0</td>\n",
       "    </tr>\n",
       "    <tr>\n",
       "      <th>6</th>\n",
       "      <td>1</td>\n",
       "      <td>26</td>\n",
       "      <td>1</td>\n",
       "      <td>16.0</td>\n",
       "      <td>13</td>\n",
       "      <td>40</td>\n",
       "      <td>6.0</td>\n",
       "      <td>7.0</td>\n",
       "      <td>1.0</td>\n",
       "      <td>1.0</td>\n",
       "      <td>...</td>\n",
       "      <td>0</td>\n",
       "      <td>0</td>\n",
       "      <td>0</td>\n",
       "      <td>0</td>\n",
       "      <td>0</td>\n",
       "      <td>0</td>\n",
       "      <td>0</td>\n",
       "      <td>0</td>\n",
       "      <td>0</td>\n",
       "      <td>0</td>\n",
       "    </tr>\n",
       "    <tr>\n",
       "      <th>7</th>\n",
       "      <td>6</td>\n",
       "      <td>24</td>\n",
       "      <td>10</td>\n",
       "      <td>11.0</td>\n",
       "      <td>13</td>\n",
       "      <td>60</td>\n",
       "      <td>10.0</td>\n",
       "      <td>7.0</td>\n",
       "      <td>1.0</td>\n",
       "      <td>1.0</td>\n",
       "      <td>...</td>\n",
       "      <td>0</td>\n",
       "      <td>0</td>\n",
       "      <td>0</td>\n",
       "      <td>0</td>\n",
       "      <td>0</td>\n",
       "      <td>0</td>\n",
       "      <td>0</td>\n",
       "      <td>0</td>\n",
       "      <td>0</td>\n",
       "      <td>0</td>\n",
       "    </tr>\n",
       "    <tr>\n",
       "      <th>8</th>\n",
       "      <td>2</td>\n",
       "      <td>10</td>\n",
       "      <td>2</td>\n",
       "      <td>15.0</td>\n",
       "      <td>1</td>\n",
       "      <td>30</td>\n",
       "      <td>1.0</td>\n",
       "      <td>1.0</td>\n",
       "      <td>1.0</td>\n",
       "      <td>1.0</td>\n",
       "      <td>...</td>\n",
       "      <td>0</td>\n",
       "      <td>0</td>\n",
       "      <td>0</td>\n",
       "      <td>0</td>\n",
       "      <td>0</td>\n",
       "      <td>0</td>\n",
       "      <td>0</td>\n",
       "      <td>0</td>\n",
       "      <td>0</td>\n",
       "      <td>0</td>\n",
       "    </tr>\n",
       "    <tr>\n",
       "      <th>9</th>\n",
       "      <td>5</td>\n",
       "      <td>5</td>\n",
       "      <td>12</td>\n",
       "      <td>8.0</td>\n",
       "      <td>13</td>\n",
       "      <td>30</td>\n",
       "      <td>1.0</td>\n",
       "      <td>1.0</td>\n",
       "      <td>1.0</td>\n",
       "      <td>2.0</td>\n",
       "      <td>...</td>\n",
       "      <td>0</td>\n",
       "      <td>0</td>\n",
       "      <td>0</td>\n",
       "      <td>0</td>\n",
       "      <td>1</td>\n",
       "      <td>0</td>\n",
       "      <td>0</td>\n",
       "      <td>0</td>\n",
       "      <td>0</td>\n",
       "      <td>0</td>\n",
       "    </tr>\n",
       "  </tbody>\n",
       "</table>\n",
       "<p>10 rows × 54 columns</p>\n",
       "</div>"
      ],
      "text/plain": [
       "   Weekday_of_Collision  Day_of_Collision  Month_of_Collision  \\\n",
       "0                     1                 4                   8   \n",
       "1                     6                 8                   8   \n",
       "2                     3                 5                  11   \n",
       "3                     7                18                  10   \n",
       "4                     1                23                  11   \n",
       "5                     1                 3                   2   \n",
       "6                     1                26                   1   \n",
       "7                     6                24                  10   \n",
       "8                     2                10                   2   \n",
       "9                     5                 5                  12   \n",
       "\n",
       "   Hour_of_Collision  Carriageway_Type  Speed_Limit  Junction_Detail  \\\n",
       "0               14.0                13           60              1.0   \n",
       "1               17.0                11           50             12.0   \n",
       "2               17.0                 1           60             12.0   \n",
       "3               16.0                12           70              6.0   \n",
       "4                9.0                13           60              6.0   \n",
       "5               12.0                13           60              1.0   \n",
       "6               16.0                13           40              6.0   \n",
       "7               11.0                13           60             10.0   \n",
       "8               15.0                 1           30              1.0   \n",
       "9                8.0                13           30              1.0   \n",
       "\n",
       "   Junction_Control  Ped_Crossing_HC  Ped_Crossing_PC         ...          \\\n",
       "0               1.0              1.0              1.0         ...           \n",
       "1               7.0              1.0              1.0         ...           \n",
       "2               7.0              1.0              1.0         ...           \n",
       "3               7.0              1.0              1.0         ...           \n",
       "4               7.0              1.0              1.0         ...           \n",
       "5               1.0              1.0              1.0         ...           \n",
       "6               7.0              1.0              1.0         ...           \n",
       "7               7.0              1.0              1.0         ...           \n",
       "8               1.0              1.0              1.0         ...           \n",
       "9               1.0              1.0              2.0         ...           \n",
       "\n",
       "   Policing_Area_MEAN  Policing_Area_MFEL  Policing_Area_MIDU  \\\n",
       "0                   0                   0                   0   \n",
       "1                   0                   0                   0   \n",
       "2                   0                   0                   0   \n",
       "3                   0                   0                   0   \n",
       "4                   0                   0                   1   \n",
       "5                   0                   0                   0   \n",
       "6                   0                   0                   0   \n",
       "7                   0                   0                   0   \n",
       "8                   0                   0                   0   \n",
       "9                   0                   0                   0   \n",
       "\n",
       "   Policing_Area_MOYL  Policing_Area_NABB  Policing_Area_NDOW  \\\n",
       "0                   0                   0                   0   \n",
       "1                   0                   0                   0   \n",
       "2                   0                   0                   0   \n",
       "3                   0                   0                   0   \n",
       "4                   0                   0                   0   \n",
       "5                   0                   0                   0   \n",
       "6                   0                   0                   0   \n",
       "7                   0                   0                   0   \n",
       "8                   0                   0                   0   \n",
       "9                   0                   1                   0   \n",
       "\n",
       "   Policing_Area_NEMD  Policing_Area_NEWM  Policing_Area_OMAG  \\\n",
       "0                   0                   0                   0   \n",
       "1                   0                   0                   0   \n",
       "2                   0                   0                   0   \n",
       "3                   0                   0                   0   \n",
       "4                   0                   0                   0   \n",
       "5                   0                   0                   0   \n",
       "6                   0                   0                   0   \n",
       "7                   0                   0                   0   \n",
       "8                   0                   0                   0   \n",
       "9                   0                   0                   0   \n",
       "\n",
       "   Policing_Area_STRB  \n",
       "0                   0  \n",
       "1                   0  \n",
       "2                   0  \n",
       "3                   0  \n",
       "4                   0  \n",
       "5                   0  \n",
       "6                   0  \n",
       "7                   0  \n",
       "8                   0  \n",
       "9                   0  \n",
       "\n",
       "[10 rows x 54 columns]"
      ]
     },
     "execution_count": 176,
     "metadata": {},
     "output_type": "execute_result"
    }
   ],
   "source": [
    "X1[:10][:]"
   ]
  },
  {
   "cell_type": "code",
   "execution_count": 178,
   "metadata": {},
   "outputs": [],
   "source": [
    "from sklearn.neural_network import MLPClassifier"
   ]
  },
  {
   "cell_type": "code",
   "execution_count": 195,
   "metadata": {},
   "outputs": [],
   "source": [
    "clf = MLPClassifier(solver='adam',hidden_layer_sizes=(15,))"
   ]
  },
  {
   "cell_type": "code",
   "execution_count": null,
   "metadata": {},
   "outputs": [],
   "source": [
    "#X_train1,X_test1,y_train1,y_test1"
   ]
  },
  {
   "cell_type": "code",
   "execution_count": 196,
   "metadata": {},
   "outputs": [
    {
     "data": {
      "text/plain": [
       "MLPClassifier(activation='relu', alpha=0.0001, batch_size='auto', beta_1=0.9,\n",
       "       beta_2=0.999, early_stopping=False, epsilon=1e-08,\n",
       "       hidden_layer_sizes=(15,), learning_rate='constant',\n",
       "       learning_rate_init=0.001, max_iter=200, momentum=0.9,\n",
       "       nesterovs_momentum=True, power_t=0.5, random_state=None,\n",
       "       shuffle=True, solver='adam', tol=0.0001, validation_fraction=0.1,\n",
       "       verbose=False, warm_start=False)"
      ]
     },
     "execution_count": 196,
     "metadata": {},
     "output_type": "execute_result"
    }
   ],
   "source": [
    "clf.fit(X_train1,y_train1)"
   ]
  },
  {
   "cell_type": "code",
   "execution_count": 197,
   "metadata": {},
   "outputs": [],
   "source": [
    "pred_mlp = clf.predict(X_test1)"
   ]
  },
  {
   "cell_type": "code",
   "execution_count": 198,
   "metadata": {},
   "outputs": [
    {
     "name": "stdout",
     "output_type": "stream",
     "text": [
      "Classification report : \n",
      "              precision    recall  f1-score   support\n",
      "\n",
      "          1       0.00      0.00      0.00        30\n",
      "          2       0.00      0.00      0.00       290\n",
      "          3       0.89      1.00      0.94      2693\n",
      "\n",
      "avg / total       0.80      0.89      0.84      3013\n",
      "\n",
      "confusion matrix : \n",
      " [[   0    0   30]\n",
      " [   0    0  290]\n",
      " [   0    0 2693]]\n"
     ]
    },
    {
     "name": "stderr",
     "output_type": "stream",
     "text": [
      "/home/rahul/anaconda3/lib/python3.6/site-packages/sklearn/metrics/classification.py:1135: UndefinedMetricWarning: Precision and F-score are ill-defined and being set to 0.0 in labels with no predicted samples.\n",
      "  'precision', 'predicted', average, warn_for)\n"
     ]
    }
   ],
   "source": [
    "print('Classification report : \\n',classification_report(y_test1,pred_mlp))\n",
    "print('confusion matrix : \\n',confusion_matrix(y_test1,pred_mlp))"
   ]
  },
  {
   "cell_type": "code",
   "execution_count": 199,
   "metadata": {},
   "outputs": [],
   "source": [
    "pred_test_mlp = clf.predict(test_X)"
   ]
  },
  {
   "cell_type": "code",
   "execution_count": null,
   "metadata": {},
   "outputs": [],
   "source": []
  },
  {
   "cell_type": "code",
   "execution_count": null,
   "metadata": {},
   "outputs": [],
   "source": []
  },
  {
   "cell_type": "code",
   "execution_count": 201,
   "metadata": {},
   "outputs": [],
   "source": [
    "my_submission_mlp = pd.DataFrame({'Collision_Severity':pred_test_mlp})\n",
    "my_submission_mlp.index += 1\n",
    "my_submission_mlp.to_csv('submission_mlp.csv', index=True,index_label='S.No.')"
   ]
  },
  {
   "cell_type": "code",
   "execution_count": null,
   "metadata": {},
   "outputs": [],
   "source": []
  }
 ],
 "metadata": {
  "kernelspec": {
   "display_name": "Python 3",
   "language": "python",
   "name": "python3"
  },
  "language_info": {
   "codemirror_mode": {
    "name": "ipython",
    "version": 3
   },
   "file_extension": ".py",
   "mimetype": "text/x-python",
   "name": "python",
   "nbconvert_exporter": "python",
   "pygments_lexer": "ipython3",
   "version": "3.6.5"
  }
 },
 "nbformat": 4,
 "nbformat_minor": 2
}

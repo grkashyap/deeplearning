{
 "cells": [
  {
   "cell_type": "markdown",
   "metadata": {},
   "source": [
    "## Bronchitis Detection using CNN\n",
    "\n",
    "Dataset - https://www.kaggle.com/c/bronchitis\n",
    "\n",
    "Accuracy - 55.6%"
   ]
  },
  {
   "cell_type": "code",
   "execution_count": 1,
   "metadata": {},
   "outputs": [],
   "source": [
    "import numpy as np\n",
    "import pandas as pd\n",
    "import tensorflow as tf\n",
    "import matplotlib.pyplot as plt\n",
    "import os"
   ]
  },
  {
   "cell_type": "code",
   "execution_count": 2,
   "metadata": {},
   "outputs": [],
   "source": [
    "#Load training image data and labels\n",
    "X_train = np.load(file='Train_image_data.npy')\n",
    "Y_train = np.load(file='Train_label_data.npy')"
   ]
  },
  {
   "cell_type": "code",
   "execution_count": 3,
   "metadata": {},
   "outputs": [],
   "source": [
    "#Load cv image data and labels\n",
    "X_cv = np.load(file='cv_image_data.npy')\n",
    "Y_cv = np.load(file='cv_label_data.npy')"
   ]
  },
  {
   "cell_type": "code",
   "execution_count": 4,
   "metadata": {},
   "outputs": [],
   "source": [
    "#Load test image data and labels\n",
    "X_test = np.load(file='Test_image_data.npy')\n",
    "Y_test = np.load(file='Test_label_data.npy')"
   ]
  },
  {
   "cell_type": "code",
   "execution_count": 5,
   "metadata": {},
   "outputs": [],
   "source": [
    "#Method to convert labels to one-hot encoding\n",
    "def convert_to_one_hot(Y, C):\n",
    "    Y = np.eye(C)[Y.reshape(-1)].T\n",
    "    return Y"
   ]
  },
  {
   "cell_type": "code",
   "execution_count": 6,
   "metadata": {},
   "outputs": [],
   "source": [
    "#Convert labels to one-hot encoding\n",
    "Y_train = convert_to_one_hot(Y_train, 2).T\n",
    "Y_cv = convert_to_one_hot(Y_cv, 2).T\n",
    "Y_test = convert_to_one_hot(Y_test, 2).T"
   ]
  },
  {
   "cell_type": "code",
   "execution_count": 7,
   "metadata": {},
   "outputs": [
    {
     "name": "stdout",
     "output_type": "stream",
     "text": [
      "number of training examples = 384\n",
      "number of test examples = 128\n",
      "X_train shape: (384, 128, 128, 3)\n",
      "Y_train shape: (384, 2)\n",
      "X_test shape: (128, 128, 128, 3)\n",
      "Y_test shape: (128, 2)\n"
     ]
    }
   ],
   "source": [
    "print (\"number of training examples = \" + str(X_train.shape[0]))\n",
    "print (\"number of test examples = \" + str(X_test.shape[0]))\n",
    "print (\"X_train shape: \" + str(X_train.shape))\n",
    "print (\"Y_train shape: \" + str(Y_train.shape))\n",
    "print (\"X_test shape: \" + str(X_test.shape))\n",
    "print (\"Y_test shape: \" + str(Y_test.shape))"
   ]
  },
  {
   "cell_type": "markdown",
   "metadata": {},
   "source": [
    "## Training"
   ]
  },
  {
   "cell_type": "code",
   "execution_count": 8,
   "metadata": {},
   "outputs": [
    {
     "name": "stderr",
     "output_type": "stream",
     "text": [
      "Using TensorFlow backend.\n"
     ]
    }
   ],
   "source": [
    "from keras import layers\n",
    "from keras.layers import Input, Add, Dense, Activation, ZeroPadding2D, BatchNormalization, Flatten, Conv2D, AveragePooling2D, MaxPooling2D, GlobalMaxPooling2D\n",
    "from keras.models import Model, load_model\n",
    "from keras.preprocessing import image\n",
    "from keras.utils import layer_utils\n",
    "from keras.utils.data_utils import get_file\n",
    "from keras.applications.imagenet_utils import preprocess_input\n",
    "from IPython.display import SVG\n",
    "from keras.utils.vis_utils import model_to_dot\n",
    "from keras.utils import plot_model\n",
    "from keras.initializers import glorot_uniform\n",
    "import scipy.misc\n",
    "from matplotlib.pyplot import imshow\n",
    "%matplotlib inline\n",
    "import tensorflow as tf\n",
    "\n",
    "import keras.backend as K\n",
    "K.set_image_data_format('channels_last')\n",
    "K.set_learning_phase(1)"
   ]
  },
  {
   "cell_type": "code",
   "execution_count": 23,
   "metadata": {},
   "outputs": [],
   "source": [
    "def bronchitis_classifier(input_shape=(128,128,3),classes=2):\n",
    "    \n",
    "    \"\"\"\n",
    "    Implementation of the Bronchitis Classifier. Following is the architecture:\n",
    "    CONV2D -> RELU -> MAXPOOL -> CONV2D -> RELU -> MAXPOOL -> FC\n",
    "\n",
    "    Parameters:\n",
    "    input_shape -- shape of the images of the dataset\n",
    "    classes     -- integer, number of classes\n",
    "\n",
    "    Returns:\n",
    "    model       -- a Model() instance in Keras\n",
    "    \"\"\"\n",
    "    \n",
    "    X_input = Input(input_shape)\n",
    "    X = ZeroPadding2D((3,3))(X_input)\n",
    "    \n",
    "    # CONV2D -> RELU -> MAXPOOL\n",
    "    X = Conv2D(filters=8, kernel_size=(4, 4), strides = (1, 1), padding='same', name = 'conv1', kernel_initializer = glorot_uniform(seed=0))(X)\n",
    "    X = Activation('relu')(X)\n",
    "    X = MaxPooling2D(pool_size=(8,8),strides=8,padding='same',name='MAXPOOL1')(X)\n",
    "    \n",
    "    # CONV2D -> RELU -> MAXPOOL\n",
    "    X = Conv2D(filters=16, kernel_size=(2, 2), strides = (1, 1), padding='same', name = 'conv2', kernel_initializer = glorot_uniform(seed=0))(X)\n",
    "    X = Activation('relu')(X)\n",
    "    X = MaxPooling2D(pool_size=(4,4),strides=4,padding='same',name='MAXPOOL2')(X)\n",
    "    \n",
    "    X = Flatten()(X)\n",
    "    X = Dense(classes, activation='relu', name='fc' + str(classes), kernel_initializer = glorot_uniform(seed=0))(X)\n",
    "    \n",
    "    \n",
    "    model = Model(inputs = X_input, outputs = X, name='AlexNet')\n",
    "\n",
    "    return model"
   ]
  },
  {
   "cell_type": "code",
   "execution_count": 24,
   "metadata": {},
   "outputs": [],
   "source": [
    "#Build model graph\n",
    "model = bronchitis_classifier(input_shape = (128, 128, 3), classes = 2)"
   ]
  },
  {
   "cell_type": "code",
   "execution_count": 25,
   "metadata": {},
   "outputs": [],
   "source": [
    "#Compile model\n",
    "model.compile(optimizer='adam', loss='categorical_crossentropy', metrics=['accuracy'])"
   ]
  },
  {
   "cell_type": "code",
   "execution_count": 29,
   "metadata": {},
   "outputs": [
    {
     "name": "stdout",
     "output_type": "stream",
     "text": [
      "Epoch 1/50\n",
      "384/384 [==============================] - 1s 2ms/step - loss: 0.8229 - acc: 0.6745\n",
      "Epoch 2/50\n",
      "384/384 [==============================] - 1s 2ms/step - loss: 0.7336 - acc: 0.5078\n",
      "Epoch 3/50\n",
      "384/384 [==============================] - 1s 2ms/step - loss: 0.6911 - acc: 0.5104\n",
      "Epoch 4/50\n",
      "384/384 [==============================] - 1s 2ms/step - loss: 0.6849 - acc: 0.5755\n",
      "Epoch 5/50\n",
      "384/384 [==============================] - 1s 2ms/step - loss: 0.6869 - acc: 0.5443\n",
      "Epoch 6/50\n",
      "384/384 [==============================] - 1s 2ms/step - loss: 0.6866 - acc: 0.5391\n",
      "Epoch 7/50\n",
      "384/384 [==============================] - 1s 1ms/step - loss: 0.6854 - acc: 0.5651\n",
      "Epoch 8/50\n",
      "384/384 [==============================] - 1s 2ms/step - loss: 0.6852 - acc: 0.5495\n",
      "Epoch 9/50\n",
      "384/384 [==============================] - 1s 2ms/step - loss: 0.6844 - acc: 0.5651\n",
      "Epoch 10/50\n",
      "384/384 [==============================] - 1s 1ms/step - loss: 0.6840 - acc: 0.5651\n",
      "Epoch 11/50\n",
      "384/384 [==============================] - 1s 2ms/step - loss: 0.6838 - acc: 0.5677\n",
      "Epoch 12/50\n",
      "384/384 [==============================] - 1s 2ms/step - loss: 0.6828 - acc: 0.5729\n",
      "Epoch 13/50\n",
      "384/384 [==============================] - 1s 2ms/step - loss: 0.6834 - acc: 0.5391\n",
      "Epoch 14/50\n",
      "384/384 [==============================] - 1s 2ms/step - loss: 0.6825 - acc: 0.5443\n",
      "Epoch 15/50\n",
      "384/384 [==============================] - 1s 2ms/step - loss: 0.6820 - acc: 0.5599\n",
      "Epoch 16/50\n",
      "384/384 [==============================] - 1s 2ms/step - loss: 0.6811 - acc: 0.5547\n",
      "Epoch 17/50\n",
      "384/384 [==============================] - 1s 2ms/step - loss: 0.6810 - acc: 0.5573\n",
      "Epoch 18/50\n",
      "384/384 [==============================] - 1s 1ms/step - loss: 0.6801 - acc: 0.5547\n",
      "Epoch 19/50\n",
      "384/384 [==============================] - 1s 2ms/step - loss: 0.6795 - acc: 0.5599\n",
      "Epoch 20/50\n",
      "384/384 [==============================] - 1s 2ms/step - loss: 0.6795 - acc: 0.5703\n",
      "Epoch 21/50\n",
      "384/384 [==============================] - 1s 2ms/step - loss: 0.6792 - acc: 0.5651\n",
      "Epoch 22/50\n",
      "384/384 [==============================] - 1s 2ms/step - loss: 0.6781 - acc: 0.5781\n",
      "Epoch 23/50\n",
      "384/384 [==============================] - 1s 2ms/step - loss: 0.6774 - acc: 0.5755\n",
      "Epoch 24/50\n",
      "384/384 [==============================] - 1s 2ms/step - loss: 0.6768 - acc: 0.5729\n",
      "Epoch 25/50\n",
      "384/384 [==============================] - 1s 2ms/step - loss: 0.6763 - acc: 0.5990\n",
      "Epoch 26/50\n",
      "384/384 [==============================] - 1s 2ms/step - loss: 0.6756 - acc: 0.5911\n",
      "Epoch 27/50\n",
      "384/384 [==============================] - 1s 2ms/step - loss: 0.6752 - acc: 0.5990\n",
      "Epoch 28/50\n",
      "384/384 [==============================] - 1s 1ms/step - loss: 0.6741 - acc: 0.5807\n",
      "Epoch 29/50\n",
      "384/384 [==============================] - 1s 2ms/step - loss: 0.6739 - acc: 0.5781\n",
      "Epoch 30/50\n",
      "384/384 [==============================] - 1s 2ms/step - loss: 0.6728 - acc: 0.5833\n",
      "Epoch 31/50\n",
      "384/384 [==============================] - 1s 2ms/step - loss: 0.6717 - acc: 0.5807\n",
      "Epoch 32/50\n",
      "384/384 [==============================] - 1s 1ms/step - loss: 0.6712 - acc: 0.6016\n",
      "Epoch 33/50\n",
      "384/384 [==============================] - 1s 2ms/step - loss: 0.6703 - acc: 0.5911\n",
      "Epoch 34/50\n",
      "384/384 [==============================] - 1s 1ms/step - loss: 0.6706 - acc: 0.5833\n",
      "Epoch 35/50\n",
      "384/384 [==============================] - 1s 2ms/step - loss: 0.6685 - acc: 0.5833\n",
      "Epoch 36/50\n",
      "384/384 [==============================] - 1s 1ms/step - loss: 0.6676 - acc: 0.5938\n",
      "Epoch 37/50\n",
      "384/384 [==============================] - 1s 2ms/step - loss: 0.6666 - acc: 0.5964\n",
      "Epoch 38/50\n",
      "384/384 [==============================] - 1s 2ms/step - loss: 0.6653 - acc: 0.5964\n",
      "Epoch 39/50\n",
      "384/384 [==============================] - 1s 2ms/step - loss: 0.6635 - acc: 0.6042\n",
      "Epoch 40/50\n",
      "384/384 [==============================] - 1s 2ms/step - loss: 0.6633 - acc: 0.6120\n",
      "Epoch 41/50\n",
      "384/384 [==============================] - 1s 2ms/step - loss: 0.6611 - acc: 0.6146\n",
      "Epoch 42/50\n",
      "384/384 [==============================] - 1s 2ms/step - loss: 0.6609 - acc: 0.5547\n",
      "Epoch 43/50\n",
      "384/384 [==============================] - 1s 2ms/step - loss: 0.6550 - acc: 0.5990\n",
      "Epoch 44/50\n",
      "384/384 [==============================] - 1s 2ms/step - loss: 0.6511 - acc: 0.6016\n",
      "Epoch 45/50\n",
      "384/384 [==============================] - 1s 2ms/step - loss: 0.6477 - acc: 0.6016\n",
      "Epoch 46/50\n",
      "384/384 [==============================] - 1s 2ms/step - loss: 0.6377 - acc: 0.6120\n",
      "Epoch 47/50\n",
      "384/384 [==============================] - 1s 2ms/step - loss: 0.6278 - acc: 0.6224\n",
      "Epoch 48/50\n",
      "384/384 [==============================] - 1s 2ms/step - loss: nan - acc: 0.6458\n",
      "Epoch 49/50\n",
      "384/384 [==============================] - 1s 2ms/step - loss: 0.6607 - acc: 0.5755\n",
      "Epoch 50/50\n",
      "384/384 [==============================] - 1s 2ms/step - loss: 0.6678 - acc: 0.6146\n"
     ]
    },
    {
     "data": {
      "text/plain": [
       "<keras.callbacks.History at 0x1940659e278>"
      ]
     },
     "execution_count": 29,
     "metadata": {},
     "output_type": "execute_result"
    }
   ],
   "source": [
    "#Train the model - currently training on 10 epochs only\n",
    "model.fit(X_train, Y_train, epochs = 50, batch_size = 64)"
   ]
  },
  {
   "cell_type": "markdown",
   "metadata": {},
   "source": [
    "## Evaluation"
   ]
  },
  {
   "cell_type": "code",
   "execution_count": 30,
   "metadata": {},
   "outputs": [
    {
     "name": "stdout",
     "output_type": "stream",
     "text": [
      "128/128 [==============================] - 0s 948us/step\n"
     ]
    }
   ],
   "source": [
    "#Evaluate the model on cross validation set\n",
    "preds = model.evaluate(X_cv,Y_cv)"
   ]
  },
  {
   "cell_type": "code",
   "execution_count": 31,
   "metadata": {},
   "outputs": [
    {
     "name": "stdout",
     "output_type": "stream",
     "text": [
      "Loss = 0.685636356472969\n",
      "Test Accuracy = 0.5546875\n"
     ]
    }
   ],
   "source": [
    "#Print the loss of cross validation set\n",
    "print (\"Loss = \" + str(preds[0]))\n",
    "print (\"Test Accuracy = \" + str(preds[1]))"
   ]
  },
  {
   "cell_type": "code",
   "execution_count": 32,
   "metadata": {},
   "outputs": [
    {
     "name": "stdout",
     "output_type": "stream",
     "text": [
      "128/128 [==============================] - 0s 951us/step\n"
     ]
    }
   ],
   "source": [
    "#Evaluate the model on test set\n",
    "preds_test = model.evaluate(X_test,Y_test)"
   ]
  },
  {
   "cell_type": "code",
   "execution_count": 33,
   "metadata": {},
   "outputs": [
    {
     "name": "stdout",
     "output_type": "stream",
     "text": [
      "Loss = 0.8255279064178467\n",
      "Test Accuracy = 0.53125\n"
     ]
    }
   ],
   "source": [
    "#Print the loss of test set\n",
    "print (\"Loss = \" + str(preds_test[0]))\n",
    "print (\"Test Accuracy = \" + str(preds_test[1]))"
   ]
  },
  {
   "cell_type": "markdown",
   "metadata": {},
   "source": [
    "## Submission"
   ]
  },
  {
   "cell_type": "code",
   "execution_count": 51,
   "metadata": {},
   "outputs": [],
   "source": [
    "from glob import glob\n",
    "import cv2 as cv"
   ]
  },
  {
   "cell_type": "code",
   "execution_count": 52,
   "metadata": {},
   "outputs": [],
   "source": [
    "def load_test_images():\n",
    "    '''\n",
    "        Read images in test folder and return the list\n",
    "    '''\n",
    "    x = []\n",
    "    img_name_lst = []\n",
    "    \n",
    "    IMG_HEIGHT = 128\n",
    "    IMG_WIDTH  = 128\n",
    "    \n",
    "    curDir = os.path.curdir\n",
    "    test_images = os.path.join(curDir,'Test_Images')\n",
    "    test_imgs = glob(os.path.join(test_images, \"*.png\"))\n",
    "    \n",
    "    for img in test_imgs:\n",
    "        test_img = cv.imread(img)\n",
    "        x.append(cv.resize(test_img,(IMG_WIDTH,IMG_HEIGHT),interpolation=cv.INTER_CUBIC))\n",
    "        img_name = os.path.basename(img).split('.')[0]\n",
    "        img_name_lst.append(img_name)\n",
    "        \n",
    "        num_images_loaded = 0\n",
    "        num_images_loaded += 1\n",
    "        \n",
    "        if(num_images_loaded % 1000 == 0):\n",
    "            print('{} testing set images loaded'.format(num_images_loaded))\n",
    "            \n",
    "        \n",
    "        \n",
    "    print('-------------------------Loaded testing dataset-------------------------------')\n",
    "        \n",
    "    return x, img_name_lst"
   ]
  },
  {
   "cell_type": "code",
   "execution_count": 53,
   "metadata": {},
   "outputs": [
    {
     "name": "stdout",
     "output_type": "stream",
     "text": [
      "-------------------------Loaded testing dataset-------------------------------\n"
     ]
    }
   ],
   "source": [
    "test_x,img_name_lst = load_test_images()"
   ]
  },
  {
   "cell_type": "code",
   "execution_count": 56,
   "metadata": {},
   "outputs": [],
   "source": [
    "#Load training image data for submission\n",
    "X_submission = np.asarray(test_x)"
   ]
  },
  {
   "cell_type": "code",
   "execution_count": 57,
   "metadata": {},
   "outputs": [],
   "source": [
    "#Predit on submission image data\n",
    "test_predictions = model.predict(X_submission)"
   ]
  },
  {
   "cell_type": "code",
   "execution_count": 58,
   "metadata": {},
   "outputs": [],
   "source": [
    "#Take argmax to get the highest probable class as the predictions will have probability of 2 classes\n",
    "test_preds = test_predictions.argmax(axis=1)"
   ]
  },
  {
   "cell_type": "code",
   "execution_count": 59,
   "metadata": {},
   "outputs": [],
   "source": [
    "submission_df = pd.DataFrame()"
   ]
  },
  {
   "cell_type": "code",
   "execution_count": 60,
   "metadata": {},
   "outputs": [],
   "source": [
    "submission_df['Images'] = img_name_lst\n",
    "submission_df['Labels'] = test_preds"
   ]
  },
  {
   "cell_type": "code",
   "execution_count": 61,
   "metadata": {},
   "outputs": [
    {
     "data": {
      "text/html": [
       "<div>\n",
       "<style scoped>\n",
       "    .dataframe tbody tr th:only-of-type {\n",
       "        vertical-align: middle;\n",
       "    }\n",
       "\n",
       "    .dataframe tbody tr th {\n",
       "        vertical-align: top;\n",
       "    }\n",
       "\n",
       "    .dataframe thead th {\n",
       "        text-align: right;\n",
       "    }\n",
       "</style>\n",
       "<table border=\"1\" class=\"dataframe\">\n",
       "  <thead>\n",
       "    <tr style=\"text-align: right;\">\n",
       "      <th></th>\n",
       "      <th>Images</th>\n",
       "      <th>Labels</th>\n",
       "    </tr>\n",
       "  </thead>\n",
       "  <tbody>\n",
       "    <tr>\n",
       "      <th>0</th>\n",
       "      <td>CR_0001</td>\n",
       "      <td>0</td>\n",
       "    </tr>\n",
       "    <tr>\n",
       "      <th>1</th>\n",
       "      <td>CR_0003</td>\n",
       "      <td>0</td>\n",
       "    </tr>\n",
       "    <tr>\n",
       "      <th>2</th>\n",
       "      <td>CR_0004</td>\n",
       "      <td>1</td>\n",
       "    </tr>\n",
       "    <tr>\n",
       "      <th>3</th>\n",
       "      <td>CR_0020</td>\n",
       "      <td>1</td>\n",
       "    </tr>\n",
       "    <tr>\n",
       "      <th>4</th>\n",
       "      <td>CR_0022</td>\n",
       "      <td>0</td>\n",
       "    </tr>\n",
       "  </tbody>\n",
       "</table>\n",
       "</div>"
      ],
      "text/plain": [
       "    Images  Labels\n",
       "0  CR_0001       0\n",
       "1  CR_0003       0\n",
       "2  CR_0004       1\n",
       "3  CR_0020       1\n",
       "4  CR_0022       0"
      ]
     },
     "execution_count": 61,
     "metadata": {},
     "output_type": "execute_result"
    }
   ],
   "source": [
    "submission_df.head()"
   ]
  },
  {
   "cell_type": "code",
   "execution_count": 62,
   "metadata": {},
   "outputs": [],
   "source": [
    "submission_df.to_csv('submission.csv',index=False)"
   ]
  },
  {
   "cell_type": "code",
   "execution_count": null,
   "metadata": {},
   "outputs": [],
   "source": []
  }
 ],
 "metadata": {
  "kernelspec": {
   "display_name": "Python 3",
   "language": "python",
   "name": "python3"
  },
  "language_info": {
   "codemirror_mode": {
    "name": "ipython",
    "version": 3
   },
   "file_extension": ".py",
   "mimetype": "text/x-python",
   "name": "python",
   "nbconvert_exporter": "python",
   "pygments_lexer": "ipython3",
   "version": "3.6.6"
  }
 },
 "nbformat": 4,
 "nbformat_minor": 2
}
